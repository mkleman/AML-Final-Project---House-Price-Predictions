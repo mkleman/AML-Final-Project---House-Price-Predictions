{
 "cells": [
  {
   "cell_type": "code",
   "execution_count": 1,
   "id": "52e2257d-8302-4af2-8830-3b2dc39d573b",
   "metadata": {},
   "outputs": [],
   "source": [
    "import requests\n",
    "import pandas as pd\n",
    "import numpy as np\n",
    "import time\n",
    "import json\n",
    "from bs4 import BeautifulSoup"
   ]
  },
  {
   "cell_type": "code",
   "execution_count": 10,
   "id": "405103c3-15ec-453d-b183-a0d013ab75e7",
   "metadata": {},
   "outputs": [],
   "source": [
    "# Load the initial dataframe\n",
    "df = pd.read_csv(\"file_path\")\n",
    "#df = df.head(10)  # Use the first 10 rows for testing"
   ]
  },
  {
   "cell_type": "code",
   "execution_count": 3,
   "id": "c6e4e330-6dc7-4639-ac85-36c84a2acd90",
   "metadata": {},
   "outputs": [],
   "source": [
    "# Create Zillow URL column\n",
    "def create_zillow_url(row):\n",
    "    street_part = '-'.join(row['street'].split())\n",
    "    city_part = '-'.join(row['City'].split())\n",
    "    url = f\"https://www.zillow.com/homes/{street_part}-{city_part},-CA-{row['ZIP Code']}/\"\n",
    "    return url\n",
    "\n",
    "# Add Zillow URL column to df\n",
    "df['zillow_url'] = df.apply(create_zillow_url, axis=1)"
   ]
  },
  {
   "cell_type": "code",
   "execution_count": 11,
   "id": "c9bd75dd-b6e3-4af1-9c30-1ca438042944",
   "metadata": {},
   "outputs": [],
   "source": [
    "# Initialize empty columns if they don't exist\n",
    "for col in ['year_built', 'lot_size']:\n",
    "    if col not in df.columns:\n",
    "        df[col] = np.nan # Fill with null"
   ]
  },
  {
   "cell_type": "code",
   "execution_count": 13,
   "id": "0a579c9a-a069-4766-85f5-4560694852d0",
   "metadata": {},
   "outputs": [],
   "source": [
    "# Function to scrape property data from Zillow with retries\n",
    "def get_property_details(url, retries=2, delay=5):\n",
    "    payload = {\n",
    "        'source': 'universal',\n",
    "        'url': url,\n",
    "        'user_agent_type': 'desktop',\n",
    "    }\n",
    "    # Loop for scraping attempts\n",
    "    for attempt in range(retries):\n",
    "        # Try / Except for errors so code continues\n",
    "        try:\n",
    "            response = requests.post(\n",
    "                'https://realtime.oxylabs.io/v1/queries',\n",
    "                auth=('USERNAME', 'PASSWORD'),\n",
    "                json=payload,\n",
    "                timeout=30\n",
    "            )\n",
    "            response.raise_for_status()\n",
    "            content = response.json().get('results', [{}])[0].get('content', '')\n",
    "\n",
    "            if content:\n",
    "                soup = BeautifulSoup(content, 'html.parser')\n",
    "                script_tag = soup.find('script', {'id': '__NEXT_DATA__'})\n",
    "                \n",
    "                if script_tag:\n",
    "                    json_data = json.loads(script_tag.string)\n",
    "                    gdp_cache_str = json_data['props']['pageProps']['componentProps']['gdpClientCache']\n",
    "                    gdp_cache = json.loads(gdp_cache_str)\n",
    "                    \n",
    "                    property_info = None\n",
    "                    for key, value in gdp_cache.items():\n",
    "                        if 'property' in value:\n",
    "                            property_info = value['property']\n",
    "                            break\n",
    "                    \n",
    "                    year_built = property_info.get('yearBuilt', 'N/A') if property_info else 'N/A'\n",
    "                    lot_size = property_info.get('lotSize', 'N/A') if property_info else 'N/A'\n",
    "                    return year_built, lot_size\n",
    "            return 'N/A', 'N/A'  # Return default values if no content\n",
    "        \n",
    "        except (requests.exceptions.RequestException, Exception) as e:\n",
    "            print(f\"Error fetching data for {url}: {e}\")\n",
    "            if attempt < retries - 1:\n",
    "                time.sleep(delay)  # Wait before retrying\n",
    "            else:\n",
    "                return 'N/A', 'N/A'  # Return default values after max retries"
   ]
  },
  {
   "cell_type": "code",
   "execution_count": 14,
   "id": "7ee13046-d352-46a9-96cb-a02a89ea4ec2",
   "metadata": {},
   "outputs": [
    {
     "name": "stdout",
     "output_type": "stream",
     "text": [
      "Error fetching data for https://www.zillow.com/homes/2173-Eastridge-Trail-Oxnard,-CA-93036.0/: 'componentProps'\n",
      "Error fetching data for https://www.zillow.com/homes/885-Laramie-Court-Newbury-Park,-CA-91320.0/: HTTPSConnectionPool(host='realtime.oxylabs.io', port=443): Read timed out. (read timeout=30)\n",
      "Intermediate save at 3600 records: /Users/hadenloveridge/Desktop/AML/Final_Project/split_data/sub_file_4/updated_houses_1_to_3600.csv\n",
      "Error fetching data for https://www.zillow.com/homes/Address-not-provided-Camarillo,-CA-nan/: 'componentProps'\n",
      "Error fetching data for https://www.zillow.com/homes/Address-not-provided-Camarillo,-CA-nan/: 'componentProps'\n",
      "Error fetching data for https://www.zillow.com/homes/Address-not-provided-Camarillo,-CA-nan/: 'componentProps'\n"
     ]
    },
    {
     "name": "stderr",
     "output_type": "stream",
     "text": [
      "/var/folders/rx/yr5d88794lg__8cc26qmp1sw0000gn/T/ipykernel_93777/3018124338.py:12: FutureWarning: Setting an item of incompatible dtype is deprecated and will raise an error in a future version of pandas. Value 'N/A' has dtype incompatible with float64, please explicitly cast to a compatible dtype first.\n",
      "  df.at[i, 'year_built'] = year_built\n",
      "/var/folders/rx/yr5d88794lg__8cc26qmp1sw0000gn/T/ipykernel_93777/3018124338.py:13: FutureWarning: Setting an item of incompatible dtype is deprecated and will raise an error in a future version of pandas. Value 'N/A' has dtype incompatible with float64, please explicitly cast to a compatible dtype first.\n",
      "  df.at[i, 'lot_size'] = lot_size\n"
     ]
    },
    {
     "name": "stdout",
     "output_type": "stream",
     "text": [
      "Error fetching data for https://www.zillow.com/homes/2338-Nicklaus-St.-Oxnard,-CA-93036.0/: 'gdpClientCache'\n",
      "Error fetching data for https://www.zillow.com/homes/2338-Nicklaus-St.-Oxnard,-CA-93036.0/: 'gdpClientCache'\n",
      "Error fetching data for https://www.zillow.com/homes/2338-Nicklaus-St.-Oxnard,-CA-93036.0/: 'gdpClientCache'\n",
      "Error fetching data for https://www.zillow.com/homes/148-Seaspray-Way-Port-Hueneme,-CA-93041.0/: 'gdpClientCache'\n",
      "Error fetching data for https://www.zillow.com/homes/148-Seaspray-Way-Port-Hueneme,-CA-93041.0/: 'gdpClientCache'\n",
      "Error fetching data for https://www.zillow.com/homes/148-Seaspray-Way-Port-Hueneme,-CA-93041.0/: 'gdpClientCache'\n",
      "Error fetching data for https://www.zillow.com/homes/665-Camino-De-La-Luz-Newbury-Park,-CA-91320.0/: 'gdpClientCache'\n",
      "Error fetching data for https://www.zillow.com/homes/665-Camino-De-La-Luz-Newbury-Park,-CA-91320.0/: 'gdpClientCache'\n",
      "Error fetching data for https://www.zillow.com/homes/665-Camino-De-La-Luz-Newbury-Park,-CA-91320.0/: 'gdpClientCache'\n",
      "Error fetching data for https://www.zillow.com/homes/2787-N-Atherwood-Avenue-Simi-Valley,-CA-93065.0/: 'gdpClientCache'\n",
      "Error fetching data for https://www.zillow.com/homes/2787-N-Atherwood-Avenue-Simi-Valley,-CA-93065.0/: 'gdpClientCache'\n",
      "Error fetching data for https://www.zillow.com/homes/2787-N-Atherwood-Avenue-Simi-Valley,-CA-93065.0/: 'gdpClientCache'\n",
      "Error fetching data for https://www.zillow.com/homes/2242-Scenicpark-Street-Thousand-Oaks,-CA-91362.0/: 'componentProps'\n",
      "Error fetching data for https://www.zillow.com/homes/2242-Scenicpark-Street-Thousand-Oaks,-CA-91362.0/: 'componentProps'\n",
      "Error fetching data for https://www.zillow.com/homes/2242-Scenicpark-Street-Thousand-Oaks,-CA-91362.0/: 'componentProps'\n",
      "Error fetching data for https://www.zillow.com/homes/2338-Nicklaus-St.-Oxnard,-CA-93036.0/: 'gdpClientCache'\n",
      "Error fetching data for https://www.zillow.com/homes/2338-Nicklaus-St.-Oxnard,-CA-93036.0/: 'gdpClientCache'\n",
      "Error fetching data for https://www.zillow.com/homes/2338-Nicklaus-St.-Oxnard,-CA-93036.0/: 'gdpClientCache'\n",
      "Error fetching data for https://www.zillow.com/homes/148-Seaspray-Way-Port-Hueneme,-CA-93041.0/: 'gdpClientCache'\n",
      "Error fetching data for https://www.zillow.com/homes/148-Seaspray-Way-Port-Hueneme,-CA-93041.0/: 'gdpClientCache'\n",
      "Error fetching data for https://www.zillow.com/homes/148-Seaspray-Way-Port-Hueneme,-CA-93041.0/: 'gdpClientCache'\n",
      "Error fetching data for https://www.zillow.com/homes/2328-Nicklaus-Street-Oxnard,-CA-93036.0/: 'gdpClientCache'\n",
      "Error fetching data for https://www.zillow.com/homes/2328-Nicklaus-Street-Oxnard,-CA-93036.0/: 'gdpClientCache'\n",
      "Error fetching data for https://www.zillow.com/homes/2328-Nicklaus-Street-Oxnard,-CA-93036.0/: 'gdpClientCache'\n",
      "Error fetching data for https://www.zillow.com/homes/2787-N-Atherwood-Avenue-Simi-Valley,-CA-93065.0/: 'gdpClientCache'\n",
      "Error fetching data for https://www.zillow.com/homes/2787-N-Atherwood-Avenue-Simi-Valley,-CA-93065.0/: 'gdpClientCache'\n",
      "Error fetching data for https://www.zillow.com/homes/2787-N-Atherwood-Avenue-Simi-Valley,-CA-93065.0/: 'gdpClientCache'\n",
      "Error fetching data for https://www.zillow.com/homes/2240-Southern-Hill-Drive-Oxnard,-CA-93036.0/: 'componentProps'\n",
      "Error fetching data for https://www.zillow.com/homes/2240-Southern-Hill-Drive-Oxnard,-CA-93036.0/: 'componentProps'\n",
      "Error fetching data for https://www.zillow.com/homes/2240-Southern-Hill-Drive-Oxnard,-CA-93036.0/: 'componentProps'\n",
      "Error fetching data for https://www.zillow.com/homes/2514-Renata-Court-Thousand-Oaks,-CA-91362.0/: HTTPSConnectionPool(host='realtime.oxylabs.io', port=443): Read timed out. (read timeout=30)\n",
      "Error fetching data for https://www.zillow.com/homes/215-Burnham-Road-Oak-View,-CA-93022.0/: 'gdpClientCache'\n",
      "Error fetching data for https://www.zillow.com/homes/215-Burnham-Road-Oak-View,-CA-93022.0/: 'gdpClientCache'\n",
      "Error fetching data for https://www.zillow.com/homes/215-Burnham-Road-Oak-View,-CA-93022.0/: 'gdpClientCache'\n",
      "Error fetching data for https://www.zillow.com/homes/4134-Galapagos-Way-Oxnard,-CA-93035.0/: 'gdpClientCache'\n",
      "Error fetching data for https://www.zillow.com/homes/4134-Galapagos-Way-Oxnard,-CA-93035.0/: 'gdpClientCache'\n",
      "Error fetching data for https://www.zillow.com/homes/4134-Galapagos-Way-Oxnard,-CA-93035.0/: 'gdpClientCache'\n",
      "Error fetching data for https://www.zillow.com/homes/1455-Forest-Drive-Santa-Paula,-CA-93060.0/: 'gdpClientCache'\n",
      "Error fetching data for https://www.zillow.com/homes/1455-Forest-Drive-Santa-Paula,-CA-93060.0/: 'gdpClientCache'\n",
      "Error fetching data for https://www.zillow.com/homes/1455-Forest-Drive-Santa-Paula,-CA-93060.0/: 'gdpClientCache'\n",
      "All records processed and saved.\n"
     ]
    }
   ],
   "source": [
    "# Iterate over the dataframe row by row\n",
    "for i in range(len(df)):\n",
    "    try:\n",
    "        # Check if the row needs updating\n",
    "        if pd.isna(df.iloc[i]['year_built']) or df.iloc[i]['year_built'] == 'N/A' or \\\n",
    "           pd.isna(df.iloc[i]['lot_size']) or df.iloc[i]['lot_size'] == 'N/A':\n",
    "            # Fetch property details\n",
    "            year_built, lot_size = get_property_details(df.iloc[i]['zillow_url'])\n",
    "            \n",
    "            # Update the row in the DataFrame\n",
    "            df.at[i, 'year_built'] = year_built\n",
    "            df.at[i, 'lot_size'] = lot_size\n",
    "            \n",
    "            # Print an update for every 300th record\n",
    "            if (i + 1) % 300 == 0:  # i + 1 because i is zero-indexed\n",
    "                # Create a dynamic filename with the range of indexes processed\n",
    "                start_index = 1  # Start index for the first batch\n",
    "                end_index = i + 1  # Current index + 1 (inclusive)\n",
    "                filename = f\"/Users/hadenloveridge/Desktop/AML/Final_Project/split_data/sub_file_4/updated_houses_{start_index}_to_{end_index}.csv\"\n",
    "    \n",
    "                # Save intermediate progress\n",
    "                df.to_csv(filename, index=False)\n",
    "                print(f\"Intermediate save at {i + 1} records: {filename}\")\n",
    "                \n",
    "    except Exception as e:\n",
    "        print(f\"Error processing record {i + 1}: {e}\")\n",
    "\n",
    "# Save the final DataFrame to a CSV\n",
    "df.to_csv('saved_file_path', index=False)\n",
    "print(\"All records processed and saved.\")"
   ]
  }
 ],
 "metadata": {
  "kernelspec": {
   "display_name": "Python 3 (ipykernel)",
   "language": "python",
   "name": "python3"
  },
  "language_info": {
   "codemirror_mode": {
    "name": "ipython",
    "version": 3
   },
   "file_extension": ".py",
   "mimetype": "text/x-python",
   "name": "python",
   "nbconvert_exporter": "python",
   "pygments_lexer": "ipython3",
   "version": "3.12.7"
  }
 },
 "nbformat": 4,
 "nbformat_minor": 5
}
