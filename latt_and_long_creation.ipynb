{
 "cells": [
  {
   "cell_type": "markdown",
   "id": "cbfe4f69-2dff-4e6a-9573-5e2cb2307594",
   "metadata": {},
   "source": [
    "## Use Google and Geopy to add Lat and Long"
   ]
  },
  {
   "cell_type": "code",
   "execution_count": null,
   "id": "8e3fc340-aacf-4796-ae35-711af40dd735",
   "metadata": {},
   "outputs": [],
   "source": [
    "#!pip install googlemaps"
   ]
  },
  {
   "cell_type": "code",
   "execution_count": null,
   "id": "8e4a59f9-0995-450d-bbdc-9c7bf22ad328",
   "metadata": {},
   "outputs": [],
   "source": [
    "#!pip install geopy"
   ]
  },
  {
   "cell_type": "code",
   "execution_count": 1,
   "id": "aeaaf405-27cf-4ae7-b8ed-1bebb9958c1b",
   "metadata": {},
   "outputs": [],
   "source": [
    "import googlemaps\n",
    "from geopy.geocoders import Nominatim\n",
    "from geopy.exc import GeocoderTimedOut\n",
    "import time\n",
    "import pandas as pd"
   ]
  },
  {
   "cell_type": "code",
   "execution_count": 2,
   "id": "8eeff1ae-5150-44fe-861a-21549a7ee2ea",
   "metadata": {},
   "outputs": [],
   "source": [
    "# Initialize Google Maps client and Nominatim geolocator\n",
    "gmaps = googlemaps.Client(key='YOUR_KEY')\n",
    "geolocator = Nominatim(user_agent=\"home_price_model\")"
   ]
  },
  {
   "cell_type": "code",
   "execution_count": 9,
   "id": "a7b97ccd-2a35-427c-84fa-e801bdfbdcca",
   "metadata": {},
   "outputs": [],
   "source": [
    "# Load your CSV file\n",
    "data_path = 'csv_File_Path'\n",
    "data = pd.read_csv(data_path)\n",
    "#data = data.head(20)"
   ]
  },
  {
   "cell_type": "code",
   "execution_count": 10,
   "id": "aabb7d95-c6dc-4166-ad52-7d8fad6a8412",
   "metadata": {},
   "outputs": [
    {
     "name": "stdout",
     "output_type": "stream",
     "text": [
      "500 records updated.\n",
      "1000 records updated.\n",
      "1500 records updated.\n",
      "2000 records updated.\n",
      "2500 records updated.\n",
      "3000 records updated.\n",
      "3500 records updated.\n",
      "4000 records updated.\n",
      "4500 records updated.\n",
      "5000 records updated.\n",
      "5500 records updated.\n",
      "6000 records updated.\n",
      "6500 records updated.\n",
      "7000 records updated.\n",
      "7500 records updated.\n",
      "8000 records updated.\n",
      "8500 records updated.\n",
      "9000 records updated.\n",
      "9500 records updated.\n",
      "10000 records updated.\n",
      "10500 records updated.\n",
      "11000 records updated.\n",
      "11500 records updated.\n",
      "12000 records updated.\n",
      "12500 records updated.\n",
      "13000 records updated.\n",
      "13500 records updated.\n",
      "14000 records updated.\n",
      "14500 records updated.\n",
      "15000 records updated.\n"
     ]
    }
   ],
   "source": [
    "# Counter for tracking progress\n",
    "global_counter = 0\n",
    "\n",
    "# Define the geocoding function with fallback\n",
    "def geocode_address(row):\n",
    "    global global_counter  # Reference the global counter\n",
    "    \n",
    "    # Check if ZIP Code is NaN and handle it\n",
    "    zip_code = str(int(row['ZIP Code'])) if pd.notnull(row['ZIP Code']) else ''\n",
    "    \n",
    "    # Create the full address string\n",
    "    full_address = f\"{row['street']}, {row['citi']}, {zip_code}\"\n",
    "    \n",
    "    # Attempt Google Maps geocoding\n",
    "    try:\n",
    "        geocode_result = gmaps.geocode(full_address)\n",
    "        if geocode_result:\n",
    "            location = geocode_result[0]['geometry']['location']\n",
    "            result = (location['lat'], location['lng'])\n",
    "        else:\n",
    "            result = (None, None)\n",
    "    except Exception as e:\n",
    "        print(f\"Google Maps error for address {full_address}: {e}\")\n",
    "        result = None\n",
    "\n",
    "    # If Google Maps fails, attempt Nominatim geocoding\n",
    "    if result is None:\n",
    "        try:\n",
    "            address_components = [\n",
    "                row['street'],\n",
    "                row['citi'],\n",
    "                zip_code  # Use the processed zip code here\n",
    "            ]\n",
    "            fallback_address = ', '.join([comp for comp in address_components if comp])\n",
    "            \n",
    "            location = geolocator.geocode(fallback_address)\n",
    "            if location:\n",
    "                result = (location.latitude, location.longitude)\n",
    "            else:\n",
    "                result = (None, None)\n",
    "        except GeocoderTimedOut:\n",
    "            time.sleep(1)\n",
    "            return geocode_address(row)  # Retry on timeout\n",
    "        except Exception as e:\n",
    "            print(f\"Nominatim error for address {full_address}: {e}\")\n",
    "            result = (None, None)\n",
    "    \n",
    "    # Update the global counter and print progress every 500 records\n",
    "    global_counter += 1\n",
    "    if global_counter % 500 == 0:\n",
    "        print(f\"{global_counter} records updated.\")\n",
    "    \n",
    "    return result\n",
    "\n",
    "# Apply the geocoding function\n",
    "data[['latitude', 'longitude']] = data.apply(geocode_address, axis=1, result_type='expand')"
   ]
  },
  {
   "cell_type": "code",
   "execution_count": 12,
   "id": "2040623b-ba4a-4135-adce-9b7790df7ab5",
   "metadata": {},
   "outputs": [
    {
     "name": "stdout",
     "output_type": "stream",
     "text": [
      "Records with null latitude or longitude: 4\n",
      "Records with both latitude and longitude null: 2\n"
     ]
    }
   ],
   "source": [
    "# Count records with nulls in either latitude or longitude\n",
    "null_count = data['latitude'].isnull().sum() + data['longitude'].isnull().sum()\n",
    "\n",
    "# Alternatively, count rows where both latitude and longitude are null\n",
    "both_null_count = data[['latitude', 'longitude']].isnull().all(axis=1).sum()\n",
    "\n",
    "print(f\"Records with null latitude or longitude: {null_count}\")\n",
    "print(f\"Records with both latitude and longitude null: {both_null_count}\")\n"
   ]
  },
  {
   "cell_type": "code",
   "execution_count": 13,
   "id": "409955e0-4a51-46b4-8788-61f9687d5f8d",
   "metadata": {},
   "outputs": [],
   "source": [
    "csv_file_path = 'Your_Csv_path)\n",
    "data.to_csv(csv_file_path, index=False)"
   ]
  }
 ],
 "metadata": {
  "kernelspec": {
   "display_name": "Python 3 (ipykernel)",
   "language": "python",
   "name": "python3"
  },
  "language_info": {
   "codemirror_mode": {
    "name": "ipython",
    "version": 3
   },
   "file_extension": ".py",
   "mimetype": "text/x-python",
   "name": "python",
   "nbconvert_exporter": "python",
   "pygments_lexer": "ipython3",
   "version": "3.12.7"
  }
 },
 "nbformat": 4,
 "nbformat_minor": 5
}
