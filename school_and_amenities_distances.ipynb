{
 "cells": [
  {
   "cell_type": "code",
   "execution_count": 2,
   "id": "fd247a13-a428-4ac1-a99d-1b73cda2e63e",
   "metadata": {},
   "outputs": [],
   "source": [
    "#!pip install googlemaps"
   ]
  },
  {
   "cell_type": "code",
   "execution_count": 3,
   "id": "b96b2740-65a1-4754-832a-0cd44eccadf1",
   "metadata": {},
   "outputs": [],
   "source": [
    "import googlemaps\n",
    "import pandas as pd\n",
    "import time"
   ]
  },
  {
   "cell_type": "code",
   "execution_count": 24,
   "id": "30908c6d-89eb-44ce-8181-992e1b999d1b",
   "metadata": {},
   "outputs": [],
   "source": [
    "# Replace with your own API Key\n",
    "API_KEY = 'YOUR_API_KEY'\n",
    "gmaps = googlemaps.Client(key=API_KEY)"
   ]
  },
  {
   "cell_type": "code",
   "execution_count": 15,
   "id": "bd90ac7f-db8c-4d3e-8e11-4f9f0e7072d4",
   "metadata": {},
   "outputs": [],
   "source": [
    "houses_df = pd.read_csv(\"csv_file_path\")"
   ]
  },
  {
   "cell_type": "code",
   "execution_count": 18,
   "id": "51c6d0ab-d08e-4223-8d0d-0d65aa02eca0",
   "metadata": {},
   "outputs": [
    {
     "name": "stdout",
     "output_type": "stream",
     "text": [
      "Error: 'distance'\n",
      "Error: 'distance'\n",
      "Error: 'distance'\n",
      "500 records have been updated.\n",
      "Error: 'distance'\n",
      "Error: 'distance'\n",
      "1000 records have been updated.\n",
      "1500 records have been updated.\n",
      "2000 records have been updated.\n",
      "2500 records have been updated.\n",
      "Error: INVALID_REQUEST\n",
      "3000 records have been updated.\n",
      "3500 records have been updated.\n",
      "4000 records have been updated.\n",
      "4500 records have been updated.\n",
      "5000 records have been updated.\n",
      "5500 records have been updated.\n",
      "6000 records have been updated.\n",
      "6500 records have been updated.\n",
      "7000 records have been updated.\n",
      "7500 records have been updated.\n",
      "8000 records have been updated.\n",
      "8500 records have been updated.\n",
      "Error: 'distance'\n",
      "9000 records have been updated.\n",
      "Error: 'distance'\n",
      "9500 records have been updated.\n",
      "Error: INVALID_REQUEST\n",
      "10000 records have been updated.\n",
      "10500 records have been updated.\n",
      "11000 records have been updated.\n",
      "11500 records have been updated.\n",
      "12000 records have been updated.\n",
      "12500 records have been updated.\n",
      "13000 records have been updated.\n",
      "Error: 'distance'\n",
      "13500 records have been updated.\n",
      "14000 records have been updated.\n",
      "Error: 'distance'\n",
      "Error: 'distance'\n",
      "14500 records have been updated.\n",
      "15000 records have been updated.\n"
     ]
    }
   ],
   "source": [
    "# Function to get the closest school and its rating\n",
    "def get_closest_school_info(lat, lon, radius=15000, school_type=\"school\"): # radius is in meters, so 2000 = 2 kilometers\n",
    "    try:\n",
    "        places_result = gmaps.places_nearby(location=(lat, lon), radius=radius, type=school_type)\n",
    "        \n",
    "        # If there are results, get the first (closest) school\n",
    "        if places_result['results']:\n",
    "            closest_school = places_result['results'][0]\n",
    "            school_name = closest_school['name']\n",
    "            school_rating = closest_school.get('rating', 'N/A')  # Default to 'N/A' if rating not available\n",
    "            school_address = closest_school['vicinity']\n",
    "            \n",
    "            # Calculate distance to school\n",
    "            distance_result = gmaps.distance_matrix(origins=(lat, lon), destinations=school_address, mode=\"driving\")\n",
    "            distance = distance_result['rows'][0]['elements'][0]['distance']['text']\n",
    "            \n",
    "            return school_name, school_rating, distance\n",
    "        else:\n",
    "            return \"No nearby school\", \"N/A\", \"N/A\"\n",
    "    except Exception as e:\n",
    "        print(f\"Error: {e}\")\n",
    "        return \"Error\", \"Error\", \"Error\"\n",
    "\n",
    "# Add columns for closest school information\n",
    "houses_df['closest_school'] = ''\n",
    "houses_df['school_rating'] = ''\n",
    "houses_df['school_distance'] = ''\n",
    "\n",
    "# Populate the columns for each row, only if 'closest_school' is empty or null\n",
    "for index, row in houses_df.iterrows():\n",
    "    if pd.isnull(row['closest_school']) or row['closest_school'] == '':\n",
    "        # Proceed with API request if 'closest_school' is empty\n",
    "        school_name, school_rating, distance = get_closest_school_info(row['latitude'], row['longitude'])\n",
    "        houses_df.at[index, 'closest_school'] = school_name\n",
    "        houses_df.at[index, 'school_rating'] = school_rating\n",
    "        houses_df.at[index, 'school_distance'] = distance\n",
    "    \n",
    "    # Print progress every 500 records\n",
    "    if (index + 1) % 500 == 0:\n",
    "        print(f\"{index + 1} records have been updated.\")\n"
   ]
  },
  {
   "cell_type": "code",
   "execution_count": 20,
   "id": "ef7f93d5-0a70-40d4-a1df-e678204409a1",
   "metadata": {},
   "outputs": [
    {
     "name": "stdout",
     "output_type": "stream",
     "text": [
      "Records with null or empty 'closest_school': 0\n",
      "Records with null or 'N/A' 'school_rating': 121\n",
      "Records with non-numeric 'school_rating': 0\n",
      "Records with null or 'N/A' 'school_distance': 9\n",
      "Records with non-numeric 'school_distance': 0\n"
     ]
    }
   ],
   "source": [
    "# Count records with null values in 'closest_school', 'school_rating', and 'school_distance'\n",
    "null_closest_school_count = houses_df['closest_school'].isnull().sum() + (houses_df['closest_school'] == '').sum()\n",
    "null_school_rating_count = houses_df['school_rating'].isnull().sum() + (houses_df['school_rating'] == 'N/A').sum()\n",
    "null_school_distance_count = houses_df['school_distance'].isnull().sum() + (houses_df['school_distance'] == 'N/A').sum()\n",
    "\n",
    "# For non-numeric values in 'school_rating' and 'school_distance'\n",
    "non_numeric_school_rating_count = houses_df['school_rating'].apply(lambda x: not pd.to_numeric(x, errors='coerce')).sum()\n",
    "non_numeric_school_distance_count = houses_df['school_distance'].apply(lambda x: not pd.to_numeric(str(x).replace(\" km\", \"\").replace(\" mi\", \"\"), errors='coerce')).sum()\n",
    "\n",
    "print(\"Records with null or empty 'closest_school':\", null_closest_school_count)\n",
    "print(\"Records with null or 'N/A' 'school_rating':\", null_school_rating_count)\n",
    "print(\"Records with non-numeric 'school_rating':\", non_numeric_school_rating_count)\n",
    "print(\"Records with null or 'N/A' 'school_distance':\", null_school_distance_count)\n",
    "print(\"Records with non-numeric 'school_distance':\", non_numeric_school_distance_count)\n"
   ]
  },
  {
   "cell_type": "code",
   "execution_count": 22,
   "id": "8d53dded-4a19-404e-98de-e167decfda68",
   "metadata": {},
   "outputs": [],
   "source": [
    "# Save to csv after updates\n",
    "csv_file_path = \"csv_file_path\"\n",
    "houses_df.to_csv(csv_file_path, index=False)"
   ]
  },
  {
   "cell_type": "markdown",
   "id": "8718c2d3-f52a-4582-a4f8-abaade09b5a9",
   "metadata": {},
   "source": [
    "# Adding Distance to Other Amenities"
   ]
  },
  {
   "cell_type": "code",
   "execution_count": 26,
   "id": "4c086c92-b1ce-4e5b-8682-fd190606c1c4",
   "metadata": {},
   "outputs": [
    {
     "name": "stdout",
     "output_type": "stream",
     "text": [
      "500 records have been updated.\n",
      "1000 records have been updated.\n",
      "1500 records have been updated.\n",
      "2000 records have been updated.\n",
      "2500 records have been updated.\n",
      "Error fetching restaurant data: INVALID_REQUEST\n",
      "Error fetching grocery_or_supermarket data: INVALID_REQUEST\n",
      "Error fetching park data: INVALID_REQUEST\n",
      "Error fetching hospital data: INVALID_REQUEST\n",
      "3000 records have been updated.\n",
      "3500 records have been updated.\n",
      "4000 records have been updated.\n",
      "4500 records have been updated.\n",
      "5000 records have been updated.\n",
      "5500 records have been updated.\n",
      "6000 records have been updated.\n",
      "6500 records have been updated.\n",
      "7000 records have been updated.\n",
      "7500 records have been updated.\n",
      "8000 records have been updated.\n",
      "8500 records have been updated.\n",
      "Error fetching park data: INVALID_REQUEST\n",
      "Error fetching park data: INVALID_REQUEST\n",
      "9000 records have been updated.\n",
      "9500 records have been updated.\n",
      "Error fetching restaurant data: INVALID_REQUEST\n",
      "Error fetching grocery_or_supermarket data: INVALID_REQUEST\n",
      "Error fetching park data: INVALID_REQUEST\n",
      "Error fetching hospital data: INVALID_REQUEST\n",
      "10000 records have been updated.\n",
      "10500 records have been updated.\n",
      "11000 records have been updated.\n",
      "11500 records have been updated.\n",
      "12000 records have been updated.\n",
      "12500 records have been updated.\n",
      "13000 records have been updated.\n",
      "13500 records have been updated.\n",
      "14000 records have been updated.\n",
      "14500 records have been updated.\n",
      "15000 records have been updated.\n"
     ]
    }
   ],
   "source": [
    "# Function to get distances for specific amenities\n",
    "def get_nearby_distances(lat, lon, radius=15000):\n",
    "    \"\"\"\n",
    "    Fetches the distances to the nearest restaurant, grocery store, park, and hospital.\n",
    "    \n",
    "    Parameters:\n",
    "    - lat (float): Latitude of the location.\n",
    "    - lon (float): Longitude of the location.\n",
    "    - radius (int): Radius in meters for the search area.\n",
    "    \n",
    "    Returns:\n",
    "    - dict: Dictionary containing distances for each amenity type.\n",
    "    \"\"\"\n",
    "    amenity_types = {\n",
    "        \"restaurant\": \"restaurant_distance\",\n",
    "        \"grocery_or_supermarket\": \"grocery_distance\",\n",
    "        \"park\": \"park_distance\",\n",
    "        \"hospital\": \"hospital_distance\"\n",
    "    }\n",
    "    \n",
    "    distances = {}\n",
    "    \n",
    "    for amenity_type, column_name in amenity_types.items():\n",
    "        try:\n",
    "            # Find the nearest place of the specified type\n",
    "            places_result = gmaps.places_nearby(location=(lat, lon), radius=radius, type=amenity_type)\n",
    "            if places_result['results']:\n",
    "                # Get the address of the closest place\n",
    "                place_address = places_result['results'][0]['vicinity']\n",
    "                \n",
    "                # Calculate driving distance to the closest place\n",
    "                distance_result = gmaps.distance_matrix(origins=(lat, lon), destinations=place_address, mode=\"driving\")\n",
    "                if distance_result['rows'][0]['elements'][0].get('distance'):\n",
    "                    distance = distance_result['rows'][0]['elements'][0]['distance']['text']\n",
    "                else:\n",
    "                    distance = \"50\"  # Set default distance if exact distance is unavailable\n",
    "            else:\n",
    "                distance = \"50\"  # Set high default distance if no places found within the radius\n",
    "            \n",
    "            distances[column_name] = distance\n",
    "        \n",
    "        except Exception as e:\n",
    "            print(f\"Error fetching {amenity_type} data: {e}\")\n",
    "            distances[column_name] = \"50\"  # Default distance for errors\n",
    "    \n",
    "    return distances\n",
    "\n",
    "# Add columns for the distances to each amenity type\n",
    "houses_df['restaurant_distance'] = ''\n",
    "houses_df['grocery_distance'] = ''\n",
    "houses_df['park_distance'] = ''\n",
    "houses_df['hospital_distance'] = ''\n",
    "\n",
    "# Populate the columns for each row\n",
    "for index, row in houses_df.iterrows():\n",
    "    if pd.isnull(row['restaurant_distance']) or row['restaurant_distance'] == '':\n",
    "        distances = get_nearby_distances(row['latitude'], row['longitude'])\n",
    "        \n",
    "        # Update DataFrame columns for each amenity distance\n",
    "        for column_name, distance in distances.items():\n",
    "            houses_df.at[index, column_name] = distance\n",
    "    \n",
    "    # Print progress every 500 records\n",
    "    if (index + 1) % 500 == 0:\n",
    "        print(f\"{index + 1} records have been updated.\")\n",
    "\n"
   ]
  },
  {
   "cell_type": "code",
   "execution_count": 28,
   "id": "acc679de-538c-4920-8ec2-d7d8084447db",
   "metadata": {},
   "outputs": [
    {
     "name": "stdout",
     "output_type": "stream",
     "text": [
      "  school_distance restaurant_distance grocery_distance park_distance  \\\n",
      "0             5.1                12.4               50           2.8   \n",
      "1             0.2                 2.6              1.2           2.5   \n",
      "2             5.4                 5.9              4.7           4.8   \n",
      "3            16.0                15.1              1.6           4.1   \n",
      "4            19.5                 3.7             12.2          19.2   \n",
      "\n",
      "  hospital_distance  \n",
      "0                50  \n",
      "1               3.1  \n",
      "2               6.3  \n",
      "3               2.1  \n",
      "4              18.7  \n"
     ]
    }
   ],
   "source": [
    "# List of columns to clean\n",
    "distance_columns = ['school_distance', 'restaurant_distance', 'grocery_distance', 'park_distance', 'hospital_distance']\n",
    "\n",
    "# Remove ' km' suffix from each specified distance column\n",
    "for column in distance_columns:\n",
    "    houses_df[column] = houses_df[column].str.replace(' km', '', regex=False)\n",
    "\n",
    "# Display the first few rows to confirm the removal\n",
    "print(houses_df[distance_columns].head())"
   ]
  },
  {
   "cell_type": "code",
   "execution_count": 30,
   "id": "64ec0523-7657-4726-b1a9-a9895ebadd57",
   "metadata": {},
   "outputs": [],
   "source": [
    "distance_amenities_file = 'csv_file_path'\n",
    "houses_df.to_csv(distance_amenities_file, index=False)"
   ]
  }
 ],
 "metadata": {
  "kernelspec": {
   "display_name": "Python 3 (ipykernel)",
   "language": "python",
   "name": "python3"
  },
  "language_info": {
   "codemirror_mode": {
    "name": "ipython",
    "version": 3
   },
   "file_extension": ".py",
   "mimetype": "text/x-python",
   "name": "python",
   "nbconvert_exporter": "python",
   "pygments_lexer": "ipython3",
   "version": "3.12.7"
  }
 },
 "nbformat": 4,
 "nbformat_minor": 5
}
